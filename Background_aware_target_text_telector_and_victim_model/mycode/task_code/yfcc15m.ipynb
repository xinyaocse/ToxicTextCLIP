{
 "cells": [
  {
   "cell_type": "code",
   "execution_count": 1,
   "id": "initial_id",
   "metadata": {
    "ExecuteTime": {
     "end_time": "2025-01-01T14:23:01.755514Z",
     "start_time": "2025-01-01T14:23:01.451739Z"
    },
    "collapsed": true
   },
   "outputs": [],
   "source": [
    "import pandas as pd"
   ]
  },
  {
   "cell_type": "code",
   "execution_count": null,
   "id": "83bc5499",
   "metadata": {},
   "outputs": [],
   "source": [
    "# load .tsv file\n",
    "file_path = '/root/public/yfcc15m/yfcc15m.csv'  \n",
    "df = pd.read_csv(file_path)  "
   ]
  },
  {
   "cell_type": "code",
   "execution_count": null,
   "id": "5f5389bff08963d4",
   "metadata": {
    "ExecuteTime": {
     "end_time": "2025-01-01T14:25:31.693182Z",
     "start_time": "2025-01-01T14:25:31.684036Z"
    }
   },
   "outputs": [
    {
     "name": "stdout",
     "output_type": "stream",
     "text": [
      "   photoid              uid           unickname              datetaken  \\\n",
      "0    29060  34427466731@N01            striatic  2004-05-02 17:12:01.0   \n",
      "1    29205  34427469121@N01              George  2004-05-03 10:16:04.0   \n",
      "2    29209  34427469121@N01              George  2004-05-03 10:16:06.0   \n",
      "3    29294  37912375204@N01  Schlomo+Rabinowitz  2004-05-01 16:49:37.0   \n",
      "4    29604  37912375204@N01  Schlomo+Rabinowitz  2004-04-23 15:51:18.0   \n",
      "\n",
      "   dateuploaded capturedevice                           title  \\\n",
      "0    1083543121           NaN  Christmas+Panorama+%7Bnotes%7D   \n",
      "1    1083604564           NaN                         La+Luna   \n",
      "2    1083604566           NaN                  From+the+entry   \n",
      "3    1083625746   SONY+DSC-V1                          detail   \n",
      "4    1083731910   SONY+DSC-V1                      meandwayne   \n",
      "\n",
      "                                         description  \\\n",
      "0  a+link+to+a+much+higher+resolution+version%2C+...   \n",
      "1                            From+outside+my+window.   \n",
      "2          This+is+what+you+see+-+with+no+furniture.   \n",
      "3       detail+of+painting+by+Romanowski+and+friends   \n",
      "4                            on+his+rockstar+tourbus   \n",
      "\n",
      "                                            usertags machinetags  ...  \\\n",
      "0  alberta,canada,christmas,edmonton,family,indoo...         NaN  ...   \n",
      "1                                        moon,vankie         NaN  ...   \n",
      "2                                          apartment         NaN  ...   \n",
      "3        abstract,graffiti,painting,romanowski,urban         NaN  ...   \n",
      "4       friend,me,mirror,notes,schlomo,unfound,wayne         NaN  ...   \n",
      "\n",
      "                                             pageurl  \\\n",
      "0  http://www.flickr.com/photos/34427466731@N01/2...   \n",
      "1  http://www.flickr.com/photos/34427469121@N01/2...   \n",
      "2  http://www.flickr.com/photos/34427469121@N01/2...   \n",
      "3  http://www.flickr.com/photos/37912375204@N01/2...   \n",
      "4  http://www.flickr.com/photos/37912375204@N01/2...   \n",
      "\n",
      "                                         downloadurl  \\\n",
      "0  http://farm1.staticflickr.com/1/29060_e90c2a0c...   \n",
      "1  http://farm1.staticflickr.com/1/29205_64d31038...   \n",
      "2  http://farm1.staticflickr.com/1/29209_6d55fad2...   \n",
      "3  http://farm1.staticflickr.com/1/29294_a0fc568d...   \n",
      "4  http://farm1.staticflickr.com/1/29604_878d5a7d...   \n",
      "\n",
      "                                  licensename  \\\n",
      "0                         Attribution License   \n",
      "1  Attribution-NonCommercial-NoDerivs License   \n",
      "2  Attribution-NonCommercial-NoDerivs License   \n",
      "3  Attribution-NonCommercial-NoDerivs License   \n",
      "4  Attribution-NonCommercial-NoDerivs License   \n",
      "\n",
      "                                          licenseurl serverid farmid  \\\n",
      "0        http://creativecommons.org/licenses/by/2.0/        1      1   \n",
      "1  http://creativecommons.org/licenses/by-nc-nd/2.0/        1      1   \n",
      "2  http://creativecommons.org/licenses/by-nc-nd/2.0/        1      1   \n",
      "3  http://creativecommons.org/licenses/by-nc-nd/2.0/        1      1   \n",
      "4  http://creativecommons.org/licenses/by-nc-nd/2.0/        1      1   \n",
      "\n",
      "       secret  secretoriginal  ext marker  \n",
      "0  e90c2a0c1c      e90c2a0c1c  jpg      0  \n",
      "1  64d31038b1      64d31038b1  jpg      0  \n",
      "2  6d55fad203      6d55fad203  jpg      0  \n",
      "3  a0fc568df3      a0fc568df3  jpg      0  \n",
      "4  878d5a7ddd      878d5a7ddd  jpg      0  \n",
      "\n",
      "[5 rows x 23 columns]\n"
     ]
    }
   ],
   "source": [
    "# check head data\n",
    "print(df.head())"
   ]
  },
  {
   "cell_type": "markdown",
   "id": "ac1cf3ea22b6ac3b",
   "metadata": {},
   "source": []
  },
  {
   "cell_type": "code",
   "execution_count": null,
   "id": "91ac554a50c57ee8",
   "metadata": {
    "ExecuteTime": {
     "end_time": "2025-01-01T14:30:01.501601Z",
     "start_time": "2025-01-01T14:30:00.511795Z"
    }
   },
   "outputs": [
    {
     "name": "stdout",
     "output_type": "stream",
     "text": [
      "   photoid              uid unickname              datetaken  dateuploaded  \\\n",
      "0    29060  34427466731@N01  striatic  2004-05-02 17:12:01.0    1083543121   \n",
      "\n",
      "  capturedevice                           title  \\\n",
      "0           NaN  Christmas+Panorama+%7Bnotes%7D   \n",
      "\n",
      "                                         description  \\\n",
      "0  a+link+to+a+much+higher+resolution+version%2C+...   \n",
      "\n",
      "                                            usertags machinetags  ...  \\\n",
      "0  alberta,canada,christmas,edmonton,family,indoo...         NaN  ...   \n",
      "\n",
      "                                             pageurl  \\\n",
      "0  http://www.flickr.com/photos/34427466731@N01/2...   \n",
      "\n",
      "                                         downloadurl          licensename  \\\n",
      "0  http://farm1.staticflickr.com/1/29060_e90c2a0c...  Attribution License   \n",
      "\n",
      "                                    licenseurl serverid farmid      secret  \\\n",
      "0  http://creativecommons.org/licenses/by/2.0/        1      1  e90c2a0c1c   \n",
      "\n",
      "   secretoriginal  ext marker  \n",
      "0      e90c2a0c1c  jpg      0  \n",
      "\n",
      "[1 rows x 23 columns]\n"
     ]
    }
   ],
   "source": [
    "# 33480975@N03_6733458725\n",
    "# 27986178@N06_7455717766 \n",
    "\n",
    "\n",
    "filtered_df = df[(df['uid'] == '34427466731@N01') & (df['photoid'] == 29060)]\n",
    "\n",
    "# result\n",
    "print(filtered_df)\n"
   ]
  },
  {
   "cell_type": "code",
   "execution_count": null,
   "id": "c901c3e3",
   "metadata": {},
   "outputs": [],
   "source": []
  }
 ],
 "metadata": {
  "kernelspec": {
   "display_name": "Python 3",
   "language": "python",
   "name": "python3"
  },
  "language_info": {
   "codemirror_mode": {
    "name": "ipython",
    "version": 2
   },
   "file_extension": ".py",
   "mimetype": "text/x-python",
   "name": "python",
   "nbconvert_exporter": "python",
   "pygments_lexer": "ipython2",
   "version": "2.7.6"
  }
 },
 "nbformat": 4,
 "nbformat_minor": 5
}
